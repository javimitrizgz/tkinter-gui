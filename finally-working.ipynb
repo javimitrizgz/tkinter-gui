{
 "cells": [
  {
   "cell_type": "code",
   "execution_count": null,
   "metadata": {
    "collapsed": true
   },
   "outputs": [],
   "source": [
    "from tkinter import *\n",
    "from tkinter import ttk\n",
    "\n",
    "class StartScreen:\n",
    "    \n",
    "    def open_new_window(self,master):\n",
    "        self.new_wind_root=Toplevel(master)\n",
    "#         pass this as master to the root level window\n",
    "        new_wind=AdminMainScreen(self.new_wind_root)\n",
    "    \n",
    "    \n",
    "    def __init__(self, master):\n",
    "        self.label=ttk.Label(master,text=\"Catalogued\")\n",
    "        self.label.config(font=(\"Courier\",30))\n",
    "        self.label.grid(row=0,column=0,columnspan=2)\n",
    "        # username related\n",
    "        labelUsername=Label(master, text=\"Username\", fg=\"SeaGreen3\")\n",
    "        labelUsername.config(font=(\"Courier\", 20))\n",
    "        entryUsername =Entry(master, bd =1, width=30)\n",
    "        labelUsername.grid(row=5,column=0,pady=20, padx=20)\n",
    "        entryUsername.grid(row=5,column=1,pady=20)\n",
    "        # password related\n",
    "        labelPass=Label(master, text=\"Password\", fg=\"SeaGreen3\")\n",
    "        labelPass.config(font=(\"Courier\", 20))\n",
    "        entryPass = Entry(master, show='*',bd =1, width=30)\n",
    "        labelPass.grid(row=8,column=0, pady=20, padx=20)\n",
    "        entryPass.grid(row=8,column=1)\n",
    "        # login button\n",
    "        btnContinue=Button(master,text=\"Continue\", height=1, width=20,command=lambda: self.open_new_window(master))\n",
    "        btnContinue.grid(row=9,column=1,columnspan=2)\n",
    "#         btnContinue.bind('<Button-1>',open_new_window)\n",
    "        \n",
    "    \n",
    "class AdminMainScreen:\n",
    "    \n",
    "#     constructor for AdminMainScreen\n",
    "    def __init__(self,master):\n",
    "        self.label=ttk.Label(master,text=\"Catalogued\")\n",
    "        self.label.config(font=(\"Courier\",30))\n",
    "        self.label.grid(row=0,column=0,columnspan=2)\n",
    "#         create new model button\n",
    "        self.btnCreateModel=Button(master,text=\"YAYYYY!!!!\", height=1, width=20,command=lambda: print(\"Creating new model\"))\n",
    "        self.btnCreateModel.grid(row=1,column=1,columnspan=2)\n",
    "        \n",
    "\n",
    "def main():\n",
    "    root_window = Tk()\n",
    "    root_window.geometry('400x300')\n",
    "    root_window.resizable(width=False,height=False)\n",
    "    app=StartScreen(root_window)\n",
    "    root_window.mainloop()\n",
    "\n",
    "if __name__==\"__main__\": main()\n",
    "    "
   ]
  }
 ],
 "metadata": {
  "kernelspec": {
   "display_name": "Python 3",
   "language": "python",
   "name": "python3"
  },
  "language_info": {
   "codemirror_mode": {
    "name": "ipython",
    "version": 3
   },
   "file_extension": ".py",
   "mimetype": "text/x-python",
   "name": "python",
   "nbconvert_exporter": "python",
   "pygments_lexer": "ipython3",
   "version": "3.6.3"
  }
 },
 "nbformat": 4,
 "nbformat_minor": 2
}
